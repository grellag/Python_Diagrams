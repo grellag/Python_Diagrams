{
 "cells": [
  {
   "cell_type": "code",
   "execution_count": null,
   "id": "e878742e",
   "metadata": {},
   "outputs": [],
   "source": [
    "from diagrams import Diagram\n",
    "from diagrams.aws.management import SystemsManager\n",
    "from diagrams.onprem.database import MSSQL\n",
    "from diagrams.custom import Custom\n",
    "from IPython.display import Image\n",
    "from PIL import Image as PILImage, ImageDraw, ImageFont\n",
    "import os"
   ]
  },
  {
   "cell_type": "code",
   "execution_count": null,
   "id": "b93a58f8",
   "metadata": {},
   "outputs": [],
   "source": [
    "# Define the diagram file name\n",
    "diagram_file = \"Cache_Rebuild_Workflow.png\""
   ]
  },
  {
   "cell_type": "code",
   "execution_count": null,
   "id": "31b5ae19",
   "metadata": {},
   "outputs": [],
   "source": [
    "# Create the diagram context without the title\n",
    "with Diagram(\n",
    "    \"Titolo di prova\",  # Empty title\n",
    "    show=False, \n",
    "    direction=\"TB\", \n",
    "    outformat=\"png\", \n",
    "    graph_attr={\n",
    "        \"pad\": \"0.0\",  # No padding around the graph\n",
    "        \"nodesep\": \"0.1\",  # Minimal space between nodes\n",
    "        \"ranksep\": \"0.1\",  # Minimal space between ranks (levels)\n",
    "        \"margin\": \"0.0\",  # No extra margin around the diagram\n",
    "    },\n",
    "    node_attr={\n",
    "        \"width\": \"0.3\",  \n",
    "        \"height\": \"0.3\",  \n",
    "        \"fontsize\": \"5\",  \n",
    "        \"fontname\": \"Arial\",  \n",
    "    },\n",
    "    edge_attr={\n",
    "        \"penwidth\": \"1\",         # Controls thickness of the arrow line\n",
    "        \"arrowsize\": \"0.6\",      # Controls arrowhead size\n",
    "        \"color\": \"red\",         # Changes arrow color\n",
    "        \"arrowhead\": \"vee\",      # Defines arrowhead style\n",
    "        \"style\": \"dashed\",        # Can be solid, dashed, dotted\n",
    "    }\n",
    "):\n",
    "    job_main = Custom(\"PBI - Export Stat\", \"./job_icon.png\")\n",
    "    sp = MSSQL(\"SP_PBI_DCC_Export_H_Cache\")\n",
    "    stage_table = MSSQL(\"PBI_DCC_H_temp\")\n",
    "    final_table = MSSQL(\"PBI_DCC__H\")\n",
    "\n",
    "    # Define dependent jobs\n",
    "    job_intermodal = Custom(\"Intermodal\", \"./job_icon.png\")\n",
    "    job_mtfc = Custom(\"MTFC\", \"./job_icon.png\")\n",
    "    job_charge_all = Custom(\"PBI Charge - ALL\", \"./job_icon.png\")\n",
    "    job_freight_debtor = Custom(\"PBI Freight Debtor\", \"./job_icon.png\")\n",
    "    job_si_monitoring = Custom(\"PBI SI Monitoring\", \"./job_icon.png\")\n",
    "    job_bls_vs_emcs = Custom(\"BLs vs EMCs\", \"./job_icon.png\")\n",
    "    job_export_seals = Custom(\"Export Seals\", \"./job_icon.png\")\n",
    "    job_export_vgm = Custom(\"Export VGM\", \"./job_icon.png\")\n",
    "    job_vgm_info = Custom(\"VGM Info\", \"./job_icon.png\")\n",
    "\n",
    "    tbl_intermodal = MSSQL(\"PBI_DCC_Intermodal_cache\")\n",
    "    tbl_mtfc = MSSQL(\"PBI_DCC_Export_H_cache_MTFC\")\n",
    "    tbl_charge_all = MSSQL(\"PBI_Charge_Lenavi_MEDLOG\")\n",
    "    tbl_freight_debtor = MSSQL(\"PBI_BL_List_by_Freight_Debtor\")\n",
    "    tbl_si_monitoring_1 = MSSQL(\"PBI_SIMonitoring_SI_Detail\")\n",
    "    tbl_si_monitoring_2 = MSSQL(\"PBI_IFTMIN_eImage_vw\")\n",
    "    tbl_si_monitoring_3 = MSSQL(\"PBI_DCC_Export_SI_cache\")\n",
    "    tbl_bls_vs_emcs = MSSQL(\"STATS_DW_Bill_Of_Lading\")\n",
    "    tbl_export_seals = MSSQL(\"PBI_DCC_Export_H_Cache_Seals\")\n",
    "    tbl_export_vgm = MSSQL(\"PBI_DCC_Export_H_Cache_VGM\")\n",
    "    tbl_vgm_info = MSSQL(\"VGMInfo_H\")\n",
    "\n",
    "    # Define the flow\n",
    "    job_main >> sp >> stage_table >> final_table\n",
    "\n",
    "    job_intermodal >> tbl_intermodal >> stage_table\n",
    "    job_mtfc >> tbl_mtfc >> stage_table\n",
    "    job_charge_all >> tbl_charge_all >> stage_table\n",
    "    job_freight_debtor >> tbl_freight_debtor >> stage_table\n",
    "    job_si_monitoring >> tbl_si_monitoring_1 >> stage_table\n",
    "    job_si_monitoring >> tbl_si_monitoring_2 >> stage_table\n",
    "    job_si_monitoring >> tbl_si_monitoring_3 >> stage_table\n",
    "    job_bls_vs_emcs >> tbl_bls_vs_emcs >> stage_table\n",
    "    job_export_seals >> tbl_export_seals >> stage_table\n",
    "    job_export_vgm >> tbl_export_vgm >> stage_table\n",
    "    job_vgm_info >> tbl_vgm_info >> stage_table"
   ]
  },
  {
   "cell_type": "code",
   "execution_count": null,
   "id": "1dd1b74a",
   "metadata": {},
   "outputs": [],
   "source": [
    "# Check if the file was created successfully\n",
    "if os.path.exists(diagram_file):\n",
    "    print(f\"Diagram saved as: {diagram_file}\")\n",
    "else:\n",
    "    print(\"Error: Diagram file not found.\")"
   ]
  },
  {
   "cell_type": "code",
   "execution_count": null,
   "id": "500ad441",
   "metadata": {},
   "outputs": [],
   "source": [
    "# Now, add the custom title using PIL\n",
    "img = PILImage.open(diagram_file)"
   ]
  },
  {
   "cell_type": "code",
   "execution_count": null,
   "id": "c6747fb4",
   "metadata": {},
   "outputs": [],
   "source": [
    "# Create a drawing context\n",
    "draw = ImageDraw.Draw(img)"
   ]
  },
  {
   "cell_type": "code",
   "execution_count": null,
   "id": "f0769e65",
   "metadata": {},
   "outputs": [],
   "source": [
    "# Load a font (optional: specify the path to a .ttf font if necessary)\n",
    "try:\n",
    "    font = ImageFont.truetype(\"arial.ttf\", 8)  # You can adjust font size here\n",
    "except IOError:\n",
    "    font = ImageFont.load_default()"
   ]
  },
  {
   "cell_type": "code",
   "execution_count": null,
   "id": "0dbd2e66",
   "metadata": {},
   "outputs": [],
   "source": [
    "# Define text properties\n",
    "title = \"Cache Rebuild Workflow titolo Giorgio\"\n",
    "text_color = (0, 0, 0)  # Black color\n",
    "text_position = (50, 10)  # Adjust this for proper placement"
   ]
  },
  {
   "cell_type": "code",
   "execution_count": null,
   "id": "66f43ed5",
   "metadata": {},
   "outputs": [],
   "source": [
    "# Add the title to the image\n",
    "draw.text(text_position, title, font=font, fill=text_color)"
   ]
  },
  {
   "cell_type": "code",
   "execution_count": null,
   "id": "804636b3",
   "metadata": {},
   "outputs": [],
   "source": [
    "# Save the image with the title\n",
    "img_with_title = \"Cache_Rebuild_Workflow_with_title.png\"\n",
    "img.save(img_with_title)"
   ]
  },
  {
   "cell_type": "code",
   "execution_count": null,
   "id": "7c576a52",
   "metadata": {},
   "outputs": [],
   "source": [
    "# Display the saved image in the Jupyter notebook\n",
    "Image(img_with_title)"
   ]
  }
 ],
 "metadata": {
  "jupytext": {
   "cell_metadata_filter": "-all",
   "main_language": "python",
   "notebook_metadata_filter": "-all"
  }
 },
 "nbformat": 4,
 "nbformat_minor": 5
}
